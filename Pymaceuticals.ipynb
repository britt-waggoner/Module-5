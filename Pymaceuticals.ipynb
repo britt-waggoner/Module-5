{
 "cells": [
  {
   "cell_type": "code",
   "execution_count": null,
   "id": "591c4f4c",
   "metadata": {},
   "outputs": [],
   "source": [
    "# Observations\n",
    "# There are more male mice than female in the study.\n",
    "# Capomulin is an effective drug to treat cancer.\n",
    "# Heavier mice seem to have a greater average tumor volume.\n"
   ]
  },
  {
   "cell_type": "code",
   "execution_count": 1,
   "id": "b7527dba",
   "metadata": {},
   "outputs": [],
   "source": [
    "# Prepare Data\n",
    "import pandas as pd\n",
    "import matplotlib.pyplot as plt\n",
    "import numpy as np\n",
    "import scipy.stats as st\n",
    "from scipy.stats import linregress\n",
    "%matplotlib inline"
   ]
  },
  {
   "cell_type": "code",
   "execution_count": 2,
   "id": "1ca9a749",
   "metadata": {},
   "outputs": [],
   "source": [
    "mouse_data = \"D:\\mouse_metadata.csv\"\n",
    "study_data = \"D:\\study_results.csv\""
   ]
  },
  {
   "cell_type": "code",
   "execution_count": 3,
   "id": "e05d7824",
   "metadata": {},
   "outputs": [],
   "source": [
    "mouse_df = pd.read_csv(mouse_data)\n",
    "study_df = pd.read_csv(study_data)"
   ]
  },
  {
   "cell_type": "code",
   "execution_count": 4,
   "id": "c13146cb",
   "metadata": {},
   "outputs": [],
   "source": [
    "all_df = pd.merge(mouse_df, study_df, how = 'outer', on = 'Mouse ID' )"
   ]
  },
  {
   "cell_type": "code",
   "execution_count": 5,
   "id": "a8e8be14",
   "metadata": {},
   "outputs": [
    {
     "data": {
      "text/html": [
       "<div>\n",
       "<style scoped>\n",
       "    .dataframe tbody tr th:only-of-type {\n",
       "        vertical-align: middle;\n",
       "    }\n",
       "\n",
       "    .dataframe tbody tr th {\n",
       "        vertical-align: top;\n",
       "    }\n",
       "\n",
       "    .dataframe thead th {\n",
       "        text-align: right;\n",
       "    }\n",
       "</style>\n",
       "<table border=\"1\" class=\"dataframe\">\n",
       "  <thead>\n",
       "    <tr style=\"text-align: right;\">\n",
       "      <th></th>\n",
       "      <th>Mouse ID</th>\n",
       "      <th>Drug Regimen</th>\n",
       "      <th>Sex</th>\n",
       "      <th>Age_months</th>\n",
       "      <th>Weight (g)</th>\n",
       "      <th>Timepoint</th>\n",
       "      <th>Tumor Volume (mm3)</th>\n",
       "      <th>Metastatic Sites</th>\n",
       "    </tr>\n",
       "  </thead>\n",
       "  <tbody>\n",
       "    <tr>\n",
       "      <th>0</th>\n",
       "      <td>k403</td>\n",
       "      <td>Ramicane</td>\n",
       "      <td>Male</td>\n",
       "      <td>21</td>\n",
       "      <td>16</td>\n",
       "      <td>0</td>\n",
       "      <td>45.000000</td>\n",
       "      <td>0</td>\n",
       "    </tr>\n",
       "    <tr>\n",
       "      <th>1</th>\n",
       "      <td>k403</td>\n",
       "      <td>Ramicane</td>\n",
       "      <td>Male</td>\n",
       "      <td>21</td>\n",
       "      <td>16</td>\n",
       "      <td>5</td>\n",
       "      <td>38.825898</td>\n",
       "      <td>0</td>\n",
       "    </tr>\n",
       "    <tr>\n",
       "      <th>2</th>\n",
       "      <td>k403</td>\n",
       "      <td>Ramicane</td>\n",
       "      <td>Male</td>\n",
       "      <td>21</td>\n",
       "      <td>16</td>\n",
       "      <td>10</td>\n",
       "      <td>35.014271</td>\n",
       "      <td>1</td>\n",
       "    </tr>\n",
       "    <tr>\n",
       "      <th>3</th>\n",
       "      <td>k403</td>\n",
       "      <td>Ramicane</td>\n",
       "      <td>Male</td>\n",
       "      <td>21</td>\n",
       "      <td>16</td>\n",
       "      <td>15</td>\n",
       "      <td>34.223992</td>\n",
       "      <td>1</td>\n",
       "    </tr>\n",
       "    <tr>\n",
       "      <th>4</th>\n",
       "      <td>k403</td>\n",
       "      <td>Ramicane</td>\n",
       "      <td>Male</td>\n",
       "      <td>21</td>\n",
       "      <td>16</td>\n",
       "      <td>20</td>\n",
       "      <td>32.997729</td>\n",
       "      <td>1</td>\n",
       "    </tr>\n",
       "  </tbody>\n",
       "</table>\n",
       "</div>"
      ],
      "text/plain": [
       "  Mouse ID Drug Regimen   Sex  Age_months  Weight (g)  Timepoint  \\\n",
       "0     k403     Ramicane  Male          21          16          0   \n",
       "1     k403     Ramicane  Male          21          16          5   \n",
       "2     k403     Ramicane  Male          21          16         10   \n",
       "3     k403     Ramicane  Male          21          16         15   \n",
       "4     k403     Ramicane  Male          21          16         20   \n",
       "\n",
       "   Tumor Volume (mm3)  Metastatic Sites  \n",
       "0           45.000000                 0  \n",
       "1           38.825898                 0  \n",
       "2           35.014271                 1  \n",
       "3           34.223992                 1  \n",
       "4           32.997729                 1  "
      ]
     },
     "execution_count": 5,
     "metadata": {},
     "output_type": "execute_result"
    }
   ],
   "source": [
    "all_df.head()"
   ]
  },
  {
   "cell_type": "code",
   "execution_count": 6,
   "id": "d3304ece",
   "metadata": {},
   "outputs": [
    {
     "data": {
      "text/plain": [
       "(1893, 8)"
      ]
     },
     "execution_count": 6,
     "metadata": {},
     "output_type": "execute_result"
    }
   ],
   "source": [
    "all_df.shape"
   ]
  },
  {
   "cell_type": "code",
   "execution_count": 7,
   "id": "5e28393e",
   "metadata": {},
   "outputs": [
    {
     "data": {
      "text/plain": [
       "g989    13\n",
       "o287    10\n",
       "j119    10\n",
       "m550    10\n",
       "g791    10\n",
       "        ..\n",
       "l872     1\n",
       "o848     1\n",
       "d133     1\n",
       "t573     1\n",
       "u153     1\n",
       "Name: Mouse ID, Length: 249, dtype: int64"
      ]
     },
     "execution_count": 7,
     "metadata": {},
     "output_type": "execute_result"
    }
   ],
   "source": [
    "# Unique mice IDs\n",
    "\n",
    "all_df['Mouse ID'].value_counts()"
   ]
  },
  {
   "cell_type": "code",
   "execution_count": 8,
   "id": "6b4cc305",
   "metadata": {},
   "outputs": [],
   "source": [
    "# Finding Duplicates\n",
    "\n",
    "dup_df = all_df.set_index(\"Mouse ID\")"
   ]
  },
  {
   "cell_type": "code",
   "execution_count": 9,
   "id": "27c5a665",
   "metadata": {},
   "outputs": [
    {
     "data": {
      "text/html": [
       "<div>\n",
       "<style scoped>\n",
       "    .dataframe tbody tr th:only-of-type {\n",
       "        vertical-align: middle;\n",
       "    }\n",
       "\n",
       "    .dataframe tbody tr th {\n",
       "        vertical-align: top;\n",
       "    }\n",
       "\n",
       "    .dataframe thead th {\n",
       "        text-align: right;\n",
       "    }\n",
       "</style>\n",
       "<table border=\"1\" class=\"dataframe\">\n",
       "  <thead>\n",
       "    <tr style=\"text-align: right;\">\n",
       "      <th></th>\n",
       "      <th>Drug Regimen</th>\n",
       "      <th>Sex</th>\n",
       "      <th>Age_months</th>\n",
       "      <th>Weight (g)</th>\n",
       "      <th>Timepoint</th>\n",
       "      <th>Tumor Volume (mm3)</th>\n",
       "      <th>Metastatic Sites</th>\n",
       "    </tr>\n",
       "    <tr>\n",
       "      <th>Mouse ID</th>\n",
       "      <th></th>\n",
       "      <th></th>\n",
       "      <th></th>\n",
       "      <th></th>\n",
       "      <th></th>\n",
       "      <th></th>\n",
       "      <th></th>\n",
       "    </tr>\n",
       "  </thead>\n",
       "  <tbody>\n",
       "    <tr>\n",
       "      <th>g989</th>\n",
       "      <td>Propriva</td>\n",
       "      <td>Female</td>\n",
       "      <td>21</td>\n",
       "      <td>26</td>\n",
       "      <td>0</td>\n",
       "      <td>45.000000</td>\n",
       "      <td>0</td>\n",
       "    </tr>\n",
       "    <tr>\n",
       "      <th>g989</th>\n",
       "      <td>Propriva</td>\n",
       "      <td>Female</td>\n",
       "      <td>21</td>\n",
       "      <td>26</td>\n",
       "      <td>0</td>\n",
       "      <td>45.000000</td>\n",
       "      <td>0</td>\n",
       "    </tr>\n",
       "    <tr>\n",
       "      <th>g989</th>\n",
       "      <td>Propriva</td>\n",
       "      <td>Female</td>\n",
       "      <td>21</td>\n",
       "      <td>26</td>\n",
       "      <td>5</td>\n",
       "      <td>48.786801</td>\n",
       "      <td>0</td>\n",
       "    </tr>\n",
       "    <tr>\n",
       "      <th>g989</th>\n",
       "      <td>Propriva</td>\n",
       "      <td>Female</td>\n",
       "      <td>21</td>\n",
       "      <td>26</td>\n",
       "      <td>5</td>\n",
       "      <td>47.570392</td>\n",
       "      <td>0</td>\n",
       "    </tr>\n",
       "    <tr>\n",
       "      <th>g989</th>\n",
       "      <td>Propriva</td>\n",
       "      <td>Female</td>\n",
       "      <td>21</td>\n",
       "      <td>26</td>\n",
       "      <td>10</td>\n",
       "      <td>51.745156</td>\n",
       "      <td>0</td>\n",
       "    </tr>\n",
       "    <tr>\n",
       "      <th>g989</th>\n",
       "      <td>Propriva</td>\n",
       "      <td>Female</td>\n",
       "      <td>21</td>\n",
       "      <td>26</td>\n",
       "      <td>10</td>\n",
       "      <td>49.880528</td>\n",
       "      <td>0</td>\n",
       "    </tr>\n",
       "    <tr>\n",
       "      <th>g989</th>\n",
       "      <td>Propriva</td>\n",
       "      <td>Female</td>\n",
       "      <td>21</td>\n",
       "      <td>26</td>\n",
       "      <td>15</td>\n",
       "      <td>51.325852</td>\n",
       "      <td>1</td>\n",
       "    </tr>\n",
       "    <tr>\n",
       "      <th>g989</th>\n",
       "      <td>Propriva</td>\n",
       "      <td>Female</td>\n",
       "      <td>21</td>\n",
       "      <td>26</td>\n",
       "      <td>15</td>\n",
       "      <td>53.442020</td>\n",
       "      <td>0</td>\n",
       "    </tr>\n",
       "    <tr>\n",
       "      <th>g989</th>\n",
       "      <td>Propriva</td>\n",
       "      <td>Female</td>\n",
       "      <td>21</td>\n",
       "      <td>26</td>\n",
       "      <td>20</td>\n",
       "      <td>55.326122</td>\n",
       "      <td>1</td>\n",
       "    </tr>\n",
       "    <tr>\n",
       "      <th>g989</th>\n",
       "      <td>Propriva</td>\n",
       "      <td>Female</td>\n",
       "      <td>21</td>\n",
       "      <td>26</td>\n",
       "      <td>20</td>\n",
       "      <td>54.657650</td>\n",
       "      <td>1</td>\n",
       "    </tr>\n",
       "    <tr>\n",
       "      <th>g989</th>\n",
       "      <td>Propriva</td>\n",
       "      <td>Female</td>\n",
       "      <td>21</td>\n",
       "      <td>26</td>\n",
       "      <td>25</td>\n",
       "      <td>56.045564</td>\n",
       "      <td>1</td>\n",
       "    </tr>\n",
       "    <tr>\n",
       "      <th>g989</th>\n",
       "      <td>Propriva</td>\n",
       "      <td>Female</td>\n",
       "      <td>21</td>\n",
       "      <td>26</td>\n",
       "      <td>30</td>\n",
       "      <td>59.082294</td>\n",
       "      <td>1</td>\n",
       "    </tr>\n",
       "    <tr>\n",
       "      <th>g989</th>\n",
       "      <td>Propriva</td>\n",
       "      <td>Female</td>\n",
       "      <td>21</td>\n",
       "      <td>26</td>\n",
       "      <td>35</td>\n",
       "      <td>62.570880</td>\n",
       "      <td>2</td>\n",
       "    </tr>\n",
       "  </tbody>\n",
       "</table>\n",
       "</div>"
      ],
      "text/plain": [
       "         Drug Regimen     Sex  Age_months  Weight (g)  Timepoint  \\\n",
       "Mouse ID                                                           \n",
       "g989         Propriva  Female          21          26          0   \n",
       "g989         Propriva  Female          21          26          0   \n",
       "g989         Propriva  Female          21          26          5   \n",
       "g989         Propriva  Female          21          26          5   \n",
       "g989         Propriva  Female          21          26         10   \n",
       "g989         Propriva  Female          21          26         10   \n",
       "g989         Propriva  Female          21          26         15   \n",
       "g989         Propriva  Female          21          26         15   \n",
       "g989         Propriva  Female          21          26         20   \n",
       "g989         Propriva  Female          21          26         20   \n",
       "g989         Propriva  Female          21          26         25   \n",
       "g989         Propriva  Female          21          26         30   \n",
       "g989         Propriva  Female          21          26         35   \n",
       "\n",
       "          Tumor Volume (mm3)  Metastatic Sites  \n",
       "Mouse ID                                        \n",
       "g989               45.000000                 0  \n",
       "g989               45.000000                 0  \n",
       "g989               48.786801                 0  \n",
       "g989               47.570392                 0  \n",
       "g989               51.745156                 0  \n",
       "g989               49.880528                 0  \n",
       "g989               51.325852                 1  \n",
       "g989               53.442020                 0  \n",
       "g989               55.326122                 1  \n",
       "g989               54.657650                 1  \n",
       "g989               56.045564                 1  \n",
       "g989               59.082294                 1  \n",
       "g989               62.570880                 2  "
      ]
     },
     "execution_count": 9,
     "metadata": {},
     "output_type": "execute_result"
    }
   ],
   "source": [
    "dup_df.loc['g989']"
   ]
  },
  {
   "cell_type": "code",
   "execution_count": 10,
   "id": "b07ec1ec",
   "metadata": {},
   "outputs": [],
   "source": [
    "# New df to remove duplicate data\n",
    "\n",
    "clean_df = dup_df.drop(['g989'])"
   ]
  },
  {
   "cell_type": "code",
   "execution_count": 11,
   "id": "d0736446",
   "metadata": {},
   "outputs": [
    {
     "data": {
      "text/plain": [
       "(1880, 7)"
      ]
     },
     "execution_count": 11,
     "metadata": {},
     "output_type": "execute_result"
    }
   ],
   "source": [
    "clean_df.shape"
   ]
  },
  {
   "cell_type": "code",
   "execution_count": 12,
   "id": "8f253a43",
   "metadata": {},
   "outputs": [],
   "source": [
    "# Updated # of mice IDs\n",
    "\n",
    "clean_df2 = clean_df.reset_index()"
   ]
  },
  {
   "cell_type": "code",
   "execution_count": 13,
   "id": "f05c8a09",
   "metadata": {},
   "outputs": [
    {
     "data": {
      "text/plain": [
       "o287    10\n",
       "a897    10\n",
       "s185    10\n",
       "m550    10\n",
       "g791    10\n",
       "        ..\n",
       "b447     1\n",
       "x226     1\n",
       "n482     1\n",
       "x336     1\n",
       "h428     1\n",
       "Name: Mouse ID, Length: 248, dtype: int64"
      ]
     },
     "execution_count": 13,
     "metadata": {},
     "output_type": "execute_result"
    }
   ],
   "source": [
    "clean_df2['Mouse ID'].value_counts()"
   ]
  },
  {
   "cell_type": "code",
   "execution_count": 14,
   "id": "e05a063f",
   "metadata": {},
   "outputs": [],
   "source": [
    "# Summary Stats including mean, median, variance, standard dev, and SEM of tumor vol"
   ]
  },
  {
   "cell_type": "code",
   "execution_count": 15,
   "id": "d8cfd407",
   "metadata": {},
   "outputs": [],
   "source": [
    "statsum  = clean_df2.groupby([\"Drug Regimen\"])"
   ]
  },
  {
   "cell_type": "code",
   "execution_count": 16,
   "id": "c9893fca",
   "metadata": {},
   "outputs": [],
   "source": [
    "tum_mean = statsum[\"Tumor Volume (mm3)\"].mean()"
   ]
  },
  {
   "cell_type": "code",
   "execution_count": 17,
   "id": "d95cf72f",
   "metadata": {},
   "outputs": [],
   "source": [
    "tum_med = statsum[\"Tumor Volume (mm3)\"].median()"
   ]
  },
  {
   "cell_type": "code",
   "execution_count": 18,
   "id": "9f41659b",
   "metadata": {},
   "outputs": [],
   "source": [
    "tum_var = statsum[\"Tumor Volume (mm3)\"].var()"
   ]
  },
  {
   "cell_type": "code",
   "execution_count": 19,
   "id": "7cd8b883",
   "metadata": {},
   "outputs": [],
   "source": [
    "tum_sd = statsum[\"Tumor Volume (mm3)\"].std()"
   ]
  },
  {
   "cell_type": "code",
   "execution_count": 20,
   "id": "a01a566c",
   "metadata": {},
   "outputs": [],
   "source": [
    "tum_sem = statsum[\"Tumor Volume (mm3)\"].sem()"
   ]
  },
  {
   "cell_type": "code",
   "execution_count": 21,
   "id": "ef141c15",
   "metadata": {},
   "outputs": [
    {
     "data": {
      "text/html": [
       "<div>\n",
       "<style scoped>\n",
       "    .dataframe tbody tr th:only-of-type {\n",
       "        vertical-align: middle;\n",
       "    }\n",
       "\n",
       "    .dataframe tbody tr th {\n",
       "        vertical-align: top;\n",
       "    }\n",
       "\n",
       "    .dataframe thead th {\n",
       "        text-align: right;\n",
       "    }\n",
       "</style>\n",
       "<table border=\"1\" class=\"dataframe\">\n",
       "  <thead>\n",
       "    <tr style=\"text-align: right;\">\n",
       "      <th></th>\n",
       "      <th>Mean</th>\n",
       "      <th>Median</th>\n",
       "      <th>Variance</th>\n",
       "      <th>Standard Deviation</th>\n",
       "      <th>SEM</th>\n",
       "    </tr>\n",
       "    <tr>\n",
       "      <th>Drug Regimen</th>\n",
       "      <th></th>\n",
       "      <th></th>\n",
       "      <th></th>\n",
       "      <th></th>\n",
       "      <th></th>\n",
       "    </tr>\n",
       "  </thead>\n",
       "  <tbody>\n",
       "    <tr>\n",
       "      <th>Capomulin</th>\n",
       "      <td>40.675741</td>\n",
       "      <td>41.557809</td>\n",
       "      <td>24.947764</td>\n",
       "      <td>4.994774</td>\n",
       "      <td>0.329346</td>\n",
       "    </tr>\n",
       "    <tr>\n",
       "      <th>Ceftamin</th>\n",
       "      <td>52.591172</td>\n",
       "      <td>51.776157</td>\n",
       "      <td>39.290177</td>\n",
       "      <td>6.268188</td>\n",
       "      <td>0.469821</td>\n",
       "    </tr>\n",
       "    <tr>\n",
       "      <th>Infubinol</th>\n",
       "      <td>52.884795</td>\n",
       "      <td>51.820584</td>\n",
       "      <td>43.128684</td>\n",
       "      <td>6.567243</td>\n",
       "      <td>0.492236</td>\n",
       "    </tr>\n",
       "    <tr>\n",
       "      <th>Ketapril</th>\n",
       "      <td>55.235638</td>\n",
       "      <td>53.698743</td>\n",
       "      <td>68.553577</td>\n",
       "      <td>8.279709</td>\n",
       "      <td>0.603860</td>\n",
       "    </tr>\n",
       "    <tr>\n",
       "      <th>Naftisol</th>\n",
       "      <td>54.331565</td>\n",
       "      <td>52.509285</td>\n",
       "      <td>66.173479</td>\n",
       "      <td>8.134708</td>\n",
       "      <td>0.596466</td>\n",
       "    </tr>\n",
       "    <tr>\n",
       "      <th>Placebo</th>\n",
       "      <td>54.033581</td>\n",
       "      <td>52.288934</td>\n",
       "      <td>61.168083</td>\n",
       "      <td>7.821003</td>\n",
       "      <td>0.581331</td>\n",
       "    </tr>\n",
       "    <tr>\n",
       "      <th>Propriva</th>\n",
       "      <td>52.320930</td>\n",
       "      <td>50.446266</td>\n",
       "      <td>43.852013</td>\n",
       "      <td>6.622085</td>\n",
       "      <td>0.544332</td>\n",
       "    </tr>\n",
       "    <tr>\n",
       "      <th>Ramicane</th>\n",
       "      <td>40.216745</td>\n",
       "      <td>40.673236</td>\n",
       "      <td>23.486704</td>\n",
       "      <td>4.846308</td>\n",
       "      <td>0.320955</td>\n",
       "    </tr>\n",
       "    <tr>\n",
       "      <th>Stelasyn</th>\n",
       "      <td>54.233149</td>\n",
       "      <td>52.431737</td>\n",
       "      <td>59.450562</td>\n",
       "      <td>7.710419</td>\n",
       "      <td>0.573111</td>\n",
       "    </tr>\n",
       "    <tr>\n",
       "      <th>Zoniferol</th>\n",
       "      <td>53.236507</td>\n",
       "      <td>51.818479</td>\n",
       "      <td>48.533355</td>\n",
       "      <td>6.966589</td>\n",
       "      <td>0.516398</td>\n",
       "    </tr>\n",
       "  </tbody>\n",
       "</table>\n",
       "</div>"
      ],
      "text/plain": [
       "                   Mean     Median   Variance  Standard Deviation       SEM\n",
       "Drug Regimen                                                               \n",
       "Capomulin     40.675741  41.557809  24.947764            4.994774  0.329346\n",
       "Ceftamin      52.591172  51.776157  39.290177            6.268188  0.469821\n",
       "Infubinol     52.884795  51.820584  43.128684            6.567243  0.492236\n",
       "Ketapril      55.235638  53.698743  68.553577            8.279709  0.603860\n",
       "Naftisol      54.331565  52.509285  66.173479            8.134708  0.596466\n",
       "Placebo       54.033581  52.288934  61.168083            7.821003  0.581331\n",
       "Propriva      52.320930  50.446266  43.852013            6.622085  0.544332\n",
       "Ramicane      40.216745  40.673236  23.486704            4.846308  0.320955\n",
       "Stelasyn      54.233149  52.431737  59.450562            7.710419  0.573111\n",
       "Zoniferol     53.236507  51.818479  48.533355            6.966589  0.516398"
      ]
     },
     "execution_count": 21,
     "metadata": {},
     "output_type": "execute_result"
    }
   ],
   "source": [
    "statsum_df = pd.DataFrame({\n",
    "    \"Mean\": tum_mean,\n",
    "    \"Median\": tum_med,\n",
    "    \"Variance\": tum_var,\n",
    "    \"Standard Deviation\": tum_sd,\n",
    "    \"SEM\": tum_sem\n",
    "})\n",
    "statsum_df"
   ]
  },
  {
   "cell_type": "code",
   "execution_count": 22,
   "id": "28677a33",
   "metadata": {},
   "outputs": [],
   "source": [
    "# Bar and Pie Charts"
   ]
  },
  {
   "cell_type": "code",
   "execution_count": 23,
   "id": "9b5465ea",
   "metadata": {},
   "outputs": [],
   "source": [
    "bar_plot1_df = clean_df2.groupby([\"Drug Regimen\"])[\"Timepoint\"].count()"
   ]
  },
  {
   "cell_type": "code",
   "execution_count": 24,
   "id": "4e0deb12",
   "metadata": {},
   "outputs": [
    {
     "data": {
      "text/plain": [
       "<matplotlib.axes._subplots.AxesSubplot at 0x20cac291248>"
      ]
     },
     "execution_count": 24,
     "metadata": {},
     "output_type": "execute_result"
    },
    {
     "data": {
      "image/png": "[encoded data removed]",
      "text/plain": [
       "<Figure size 432x288 with 1 Axes>"
      ]
     },
     "metadata": {
      "needs_background": "light"
     },
     "output_type": "display_data"
    }
   ],
   "source": [
    "bar_plot1_df.sort_values(ascending = False).plot.bar()"
   ]
  },
  {
   "cell_type": "code",
   "execution_count": 25,
   "id": "d47f4b4c",
   "metadata": {},
   "outputs": [
    {
     "data": {
      "image/png": "[encoded data removed]",
      "text/plain": [
       "<Figure size 432x288 with 1 Axes>"
      ]
     },
     "metadata": {
      "needs_background": "light"
     },
     "output_type": "display_data"
    }
   ],
   "source": [
    "bar_plot2_df = bar_plot1_df.sort_values(ascending = False)\n",
    "plt.bar(bar_plot2_df.index, bar_plot2_df.values)\n",
    "plt.xlabel(\"Drug Regimen\")\n",
    "plt.ylabel(\"Number of Timepoints\", size = 10)\n",
    "plt.xticks(rotation = \"vertical\")\n",
    "plt.show()"
   ]
  },
  {
   "cell_type": "code",
   "execution_count": 26,
   "id": "0d2749f4",
   "metadata": {},
   "outputs": [],
   "source": [
    "gender_df =  clean_df2[\"Sex\"].value_counts()"
   ]
  },
  {
   "cell_type": "code",
   "execution_count": 27,
   "id": "491b4808",
   "metadata": {},
   "outputs": [
    {
     "data": {
      "text/plain": [
       "Text(0, 0.5, '')"
      ]
     },
     "execution_count": 27,
     "metadata": {},
     "output_type": "execute_result"
    },
    {
     "data": {
      "image/png": "[encoded data removed]",
      "text/plain": [
       "<Figure size 432x288 with 1 Axes>"
      ]
     },
     "metadata": {},
     "output_type": "display_data"
    }
   ],
   "source": [
    "pie = gender_df.plot.pie(startangle = 90, autopct = \"%1.1f%%\", title = \"Sex\")\n",
    "pie.set_ylabel('')"
   ]
  },
  {
   "cell_type": "code",
   "execution_count": 28,
   "id": "fde5c1a6",
   "metadata": {},
   "outputs": [],
   "source": [
    "gender_df =  clean_df2[\"Sex\"].value_counts()"
   ]
  },
  {
   "cell_type": "code",
   "execution_count": 29,
   "id": "437bf75c",
   "metadata": {},
   "outputs": [
    {
     "data": {
      "text/plain": [
       "Text(0.5, 1.0, 'Sex')"
      ]
     },
     "execution_count": 29,
     "metadata": {},
     "output_type": "execute_result"
    },
    {
     "data": {
      "image/png": "[encoded data removed]",
      "text/plain": [
       "<Figure size 432x288 with 1 Axes>"
      ]
     },
     "metadata": {},
     "output_type": "display_data"
    }
   ],
   "source": [
    "plt.pie(gender_df, labels = gender_df.index.values, startangle = 90, autopct = \"%1.1f%%\" )\n",
    "plt.title(\"Sex\")"
   ]
  },
  {
   "cell_type": "code",
   "execution_count": 30,
   "id": "b7b52462",
   "metadata": {},
   "outputs": [],
   "source": [
    "# Quartiles, Outliers, and Box Plot\n",
    "\n",
    "#Final Tumor volume of each mouse across top 4 treatment regimens"
   ]
  },
  {
   "cell_type": "code",
   "execution_count": 31,
   "id": "069c6278",
   "metadata": {},
   "outputs": [],
   "source": [
    "max_tp = clean_df2.groupby([\"Mouse ID\"])[\"Timepoint\"].max()"
   ]
  },
  {
   "cell_type": "code",
   "execution_count": 32,
   "id": "a634a7e6",
   "metadata": {},
   "outputs": [],
   "source": [
    "max_tp_df = pd.DataFrame(max_tp)"
   ]
  },
  {
   "cell_type": "code",
   "execution_count": 33,
   "id": "d9309758",
   "metadata": {},
   "outputs": [],
   "source": [
    "max_df = pd.merge(clean_df2, max_tp_df, on = (\"Mouse ID\", \"Timepoint\"), how = 'right')"
   ]
  },
  {
   "cell_type": "code",
   "execution_count": 34,
   "id": "03acf21b",
   "metadata": {},
   "outputs": [
    {
     "data": {
      "text/html": [
       "<div>\n",
       "<style scoped>\n",
       "    .dataframe tbody tr th:only-of-type {\n",
       "        vertical-align: middle;\n",
       "    }\n",
       "\n",
       "    .dataframe tbody tr th {\n",
       "        vertical-align: top;\n",
       "    }\n",
       "\n",
       "    .dataframe thead th {\n",
       "        text-align: right;\n",
       "    }\n",
       "</style>\n",
       "<table border=\"1\" class=\"dataframe\">\n",
       "  <thead>\n",
       "    <tr style=\"text-align: right;\">\n",
       "      <th></th>\n",
       "      <th>Mouse ID</th>\n",
       "      <th>Drug Regimen</th>\n",
       "      <th>Sex</th>\n",
       "      <th>Age_months</th>\n",
       "      <th>Weight (g)</th>\n",
       "      <th>Timepoint</th>\n",
       "      <th>Tumor Volume (mm3)</th>\n",
       "      <th>Metastatic Sites</th>\n",
       "    </tr>\n",
       "  </thead>\n",
       "  <tbody>\n",
       "    <tr>\n",
       "      <th>0</th>\n",
       "      <td>k403</td>\n",
       "      <td>Ramicane</td>\n",
       "      <td>Male</td>\n",
       "      <td>21</td>\n",
       "      <td>16</td>\n",
       "      <td>45</td>\n",
       "      <td>22.050126</td>\n",
       "      <td>1</td>\n",
       "    </tr>\n",
       "    <tr>\n",
       "      <th>1</th>\n",
       "      <td>s185</td>\n",
       "      <td>Capomulin</td>\n",
       "      <td>Female</td>\n",
       "      <td>3</td>\n",
       "      <td>17</td>\n",
       "      <td>45</td>\n",
       "      <td>23.343598</td>\n",
       "      <td>1</td>\n",
       "    </tr>\n",
       "    <tr>\n",
       "      <th>2</th>\n",
       "      <td>x401</td>\n",
       "      <td>Capomulin</td>\n",
       "      <td>Female</td>\n",
       "      <td>16</td>\n",
       "      <td>15</td>\n",
       "      <td>45</td>\n",
       "      <td>28.484033</td>\n",
       "      <td>0</td>\n",
       "    </tr>\n",
       "    <tr>\n",
       "      <th>3</th>\n",
       "      <td>m601</td>\n",
       "      <td>Capomulin</td>\n",
       "      <td>Male</td>\n",
       "      <td>22</td>\n",
       "      <td>17</td>\n",
       "      <td>45</td>\n",
       "      <td>28.430964</td>\n",
       "      <td>1</td>\n",
       "    </tr>\n",
       "    <tr>\n",
       "      <th>4</th>\n",
       "      <td>g791</td>\n",
       "      <td>Ramicane</td>\n",
       "      <td>Male</td>\n",
       "      <td>11</td>\n",
       "      <td>16</td>\n",
       "      <td>45</td>\n",
       "      <td>29.128472</td>\n",
       "      <td>1</td>\n",
       "    </tr>\n",
       "    <tr>\n",
       "      <th>...</th>\n",
       "      <td>...</td>\n",
       "      <td>...</td>\n",
       "      <td>...</td>\n",
       "      <td>...</td>\n",
       "      <td>...</td>\n",
       "      <td>...</td>\n",
       "      <td>...</td>\n",
       "      <td>...</td>\n",
       "    </tr>\n",
       "    <tr>\n",
       "      <th>243</th>\n",
       "      <td>z314</td>\n",
       "      <td>Stelasyn</td>\n",
       "      <td>Female</td>\n",
       "      <td>21</td>\n",
       "      <td>28</td>\n",
       "      <td>5</td>\n",
       "      <td>45.934712</td>\n",
       "      <td>0</td>\n",
       "    </tr>\n",
       "    <tr>\n",
       "      <th>244</th>\n",
       "      <td>z435</td>\n",
       "      <td>Propriva</td>\n",
       "      <td>Female</td>\n",
       "      <td>12</td>\n",
       "      <td>26</td>\n",
       "      <td>10</td>\n",
       "      <td>48.710661</td>\n",
       "      <td>0</td>\n",
       "    </tr>\n",
       "    <tr>\n",
       "      <th>245</th>\n",
       "      <td>z581</td>\n",
       "      <td>Infubinol</td>\n",
       "      <td>Female</td>\n",
       "      <td>24</td>\n",
       "      <td>25</td>\n",
       "      <td>45</td>\n",
       "      <td>62.754451</td>\n",
       "      <td>3</td>\n",
       "    </tr>\n",
       "    <tr>\n",
       "      <th>246</th>\n",
       "      <td>z795</td>\n",
       "      <td>Naftisol</td>\n",
       "      <td>Female</td>\n",
       "      <td>13</td>\n",
       "      <td>29</td>\n",
       "      <td>45</td>\n",
       "      <td>65.741070</td>\n",
       "      <td>3</td>\n",
       "    </tr>\n",
       "    <tr>\n",
       "      <th>247</th>\n",
       "      <td>z969</td>\n",
       "      <td>Naftisol</td>\n",
       "      <td>Male</td>\n",
       "      <td>9</td>\n",
       "      <td>30</td>\n",
       "      <td>45</td>\n",
       "      <td>73.867845</td>\n",
       "      <td>4</td>\n",
       "    </tr>\n",
       "  </tbody>\n",
       "</table>\n",
       "<p>248 rows × 8 columns</p>\n",
       "</div>"
      ],
      "text/plain": [
       "    Mouse ID Drug Regimen     Sex  Age_months  Weight (g)  Timepoint  \\\n",
       "0       k403     Ramicane    Male          21          16         45   \n",
       "1       s185    Capomulin  Female           3          17         45   \n",
       "2       x401    Capomulin  Female          16          15         45   \n",
       "3       m601    Capomulin    Male          22          17         45   \n",
       "4       g791     Ramicane    Male          11          16         45   \n",
       "..       ...          ...     ...         ...         ...        ...   \n",
       "243     z314     Stelasyn  Female          21          28          5   \n",
       "244     z435     Propriva  Female          12          26         10   \n",
       "245     z581    Infubinol  Female          24          25         45   \n",
       "246     z795     Naftisol  Female          13          29         45   \n",
       "247     z969     Naftisol    Male           9          30         45   \n",
       "\n",
       "     Tumor Volume (mm3)  Metastatic Sites  \n",
       "0             22.050126                 1  \n",
       "1             23.343598                 1  \n",
       "2             28.484033                 0  \n",
       "3             28.430964                 1  \n",
       "4             29.128472                 1  \n",
       "..                  ...               ...  \n",
       "243           45.934712                 0  \n",
       "244           48.710661                 0  \n",
       "245           62.754451                 3  \n",
       "246           65.741070                 3  \n",
       "247           73.867845                 4  \n",
       "\n",
       "[248 rows x 8 columns]"
      ]
     },
     "execution_count": 34,
     "metadata": {},
     "output_type": "execute_result"
    }
   ],
   "source": [
    "max_df"
   ]
  },
  {
   "cell_type": "code",
   "execution_count": 35,
   "id": "3ec5f377",
   "metadata": {},
   "outputs": [],
   "source": [
    "regimens = [\"Capomulin\", \"Ramicane\", \"Infubinol\", \"Ceftamin\"]"
   ]
  },
  {
   "cell_type": "code",
   "execution_count": 36,
   "id": "b3691496",
   "metadata": {},
   "outputs": [],
   "source": [
    "cap = []\n",
    "ram = []\n",
    "inf = []\n",
    "cef = []"
   ]
  },
  {
   "cell_type": "code",
   "execution_count": 37,
   "id": "7b203af6",
   "metadata": {},
   "outputs": [],
   "source": [
    "for index, row in max_df.iterrows():\n",
    "    if row[\"Drug Regimen\"]== regimens[0]:\n",
    "        cap.append(row[\"Tumor Volume (mm3)\"])\n",
    "    if row[\"Drug Regimen\"]== regimens[1]: \n",
    "        ram.append(row[\"Tumor Volume (mm3)\"])\n",
    "    if row[\"Drug Regimen\"]== regimens[2]: \n",
    "        inf.append(row[\"Tumor Volume (mm3)\"])\n",
    "    if row[\"Drug Regimen\"]== regimens[3]: \n",
    "        cef.append(row[\"Tumor Volume (mm3)\"])\n",
    "    "
   ]
  },
  {
   "cell_type": "code",
   "execution_count": 38,
   "id": "e4cae33d",
   "metadata": {},
   "outputs": [],
   "source": [
    "drug_df = pd.DataFrame({\n",
    "    regimens[0]: cap,\n",
    "    regimens[1]: ram,\n",
    "    regimens[2]: inf,\n",
    "    regimens[3]: cef\n",
    "})"
   ]
  },
  {
   "cell_type": "code",
   "execution_count": 39,
   "id": "08392195",
   "metadata": {},
   "outputs": [],
   "source": [
    "drug_df_max = drug_df.max()"
   ]
  },
  {
   "cell_type": "code",
   "execution_count": 40,
   "id": "505591df",
   "metadata": {},
   "outputs": [],
   "source": [
    "drug_df_min = drug_df.min()"
   ]
  },
  {
   "cell_type": "code",
   "execution_count": 41,
   "id": "a56f9725",
   "metadata": {},
   "outputs": [
    {
     "data": {
      "text/html": [
       "<div>\n",
       "<style scoped>\n",
       "    .dataframe tbody tr th:only-of-type {\n",
       "        vertical-align: middle;\n",
       "    }\n",
       "\n",
       "    .dataframe tbody tr th {\n",
       "        vertical-align: top;\n",
       "    }\n",
       "\n",
       "    .dataframe thead th {\n",
       "        text-align: right;\n",
       "    }\n",
       "</style>\n",
       "<table border=\"1\" class=\"dataframe\">\n",
       "  <thead>\n",
       "    <tr style=\"text-align: right;\">\n",
       "      <th></th>\n",
       "      <th>Capomulin</th>\n",
       "      <th>Ramicane</th>\n",
       "      <th>Infubinol</th>\n",
       "      <th>Ceftamin</th>\n",
       "    </tr>\n",
       "  </thead>\n",
       "  <tbody>\n",
       "    <tr>\n",
       "      <th>0</th>\n",
       "      <td>23.343598</td>\n",
       "      <td>22.050126</td>\n",
       "      <td>67.973419</td>\n",
       "      <td>62.999356</td>\n",
       "    </tr>\n",
       "    <tr>\n",
       "      <th>1</th>\n",
       "      <td>28.484033</td>\n",
       "      <td>29.128472</td>\n",
       "      <td>65.525743</td>\n",
       "      <td>45.000000</td>\n",
       "    </tr>\n",
       "    <tr>\n",
       "      <th>2</th>\n",
       "      <td>28.430964</td>\n",
       "      <td>30.276232</td>\n",
       "      <td>57.031862</td>\n",
       "      <td>56.057749</td>\n",
       "    </tr>\n",
       "    <tr>\n",
       "      <th>3</th>\n",
       "      <td>30.485985</td>\n",
       "      <td>30.564625</td>\n",
       "      <td>66.083066</td>\n",
       "      <td>55.742829</td>\n",
       "    </tr>\n",
       "    <tr>\n",
       "      <th>4</th>\n",
       "      <td>31.023923</td>\n",
       "      <td>30.638696</td>\n",
       "      <td>72.226731</td>\n",
       "      <td>48.722078</td>\n",
       "    </tr>\n",
       "    <tr>\n",
       "      <th>5</th>\n",
       "      <td>31.896238</td>\n",
       "      <td>31.560470</td>\n",
       "      <td>36.321346</td>\n",
       "      <td>47.784682</td>\n",
       "    </tr>\n",
       "    <tr>\n",
       "      <th>6</th>\n",
       "      <td>32.377357</td>\n",
       "      <td>31.095335</td>\n",
       "      <td>60.969711</td>\n",
       "      <td>61.849023</td>\n",
       "    </tr>\n",
       "    <tr>\n",
       "      <th>7</th>\n",
       "      <td>33.329098</td>\n",
       "      <td>33.397653</td>\n",
       "      <td>62.435404</td>\n",
       "      <td>68.923185</td>\n",
       "    </tr>\n",
       "    <tr>\n",
       "      <th>8</th>\n",
       "      <td>34.455298</td>\n",
       "      <td>32.978522</td>\n",
       "      <td>60.918767</td>\n",
       "      <td>67.748662</td>\n",
       "    </tr>\n",
       "    <tr>\n",
       "      <th>9</th>\n",
       "      <td>37.311846</td>\n",
       "      <td>33.562402</td>\n",
       "      <td>67.289621</td>\n",
       "      <td>57.918381</td>\n",
       "    </tr>\n",
       "    <tr>\n",
       "      <th>10</th>\n",
       "      <td>36.041047</td>\n",
       "      <td>36.134852</td>\n",
       "      <td>66.196912</td>\n",
       "      <td>46.784535</td>\n",
       "    </tr>\n",
       "    <tr>\n",
       "      <th>11</th>\n",
       "      <td>37.074024</td>\n",
       "      <td>38.810366</td>\n",
       "      <td>62.117279</td>\n",
       "      <td>59.851956</td>\n",
       "    </tr>\n",
       "    <tr>\n",
       "      <th>12</th>\n",
       "      <td>38.846876</td>\n",
       "      <td>37.225650</td>\n",
       "      <td>47.010364</td>\n",
       "      <td>64.299830</td>\n",
       "    </tr>\n",
       "    <tr>\n",
       "      <th>13</th>\n",
       "      <td>38.939633</td>\n",
       "      <td>36.374510</td>\n",
       "      <td>60.165180</td>\n",
       "      <td>59.741901</td>\n",
       "    </tr>\n",
       "    <tr>\n",
       "      <th>14</th>\n",
       "      <td>38.982878</td>\n",
       "      <td>36.561652</td>\n",
       "      <td>55.629428</td>\n",
       "      <td>61.433892</td>\n",
       "    </tr>\n",
       "    <tr>\n",
       "      <th>15</th>\n",
       "      <td>38.753265</td>\n",
       "      <td>37.311236</td>\n",
       "      <td>45.699331</td>\n",
       "      <td>64.192341</td>\n",
       "    </tr>\n",
       "    <tr>\n",
       "      <th>16</th>\n",
       "      <td>38.125164</td>\n",
       "      <td>38.342008</td>\n",
       "      <td>54.656549</td>\n",
       "      <td>45.000000</td>\n",
       "    </tr>\n",
       "    <tr>\n",
       "      <th>17</th>\n",
       "      <td>39.952347</td>\n",
       "      <td>38.407618</td>\n",
       "      <td>55.650681</td>\n",
       "      <td>52.925348</td>\n",
       "    </tr>\n",
       "    <tr>\n",
       "      <th>18</th>\n",
       "      <td>40.658124</td>\n",
       "      <td>40.659006</td>\n",
       "      <td>46.250112</td>\n",
       "      <td>45.000000</td>\n",
       "    </tr>\n",
       "    <tr>\n",
       "      <th>19</th>\n",
       "      <td>40.159220</td>\n",
       "      <td>40.667713</td>\n",
       "      <td>54.048608</td>\n",
       "      <td>67.527482</td>\n",
       "    </tr>\n",
       "    <tr>\n",
       "      <th>20</th>\n",
       "      <td>40.728578</td>\n",
       "      <td>45.220869</td>\n",
       "      <td>51.542431</td>\n",
       "      <td>45.000000</td>\n",
       "    </tr>\n",
       "    <tr>\n",
       "      <th>21</th>\n",
       "      <td>41.483008</td>\n",
       "      <td>43.047543</td>\n",
       "      <td>50.005138</td>\n",
       "      <td>64.634949</td>\n",
       "    </tr>\n",
       "    <tr>\n",
       "      <th>22</th>\n",
       "      <td>41.581521</td>\n",
       "      <td>43.419381</td>\n",
       "      <td>58.268442</td>\n",
       "      <td>61.386660</td>\n",
       "    </tr>\n",
       "    <tr>\n",
       "      <th>23</th>\n",
       "      <td>47.685963</td>\n",
       "      <td>43.166373</td>\n",
       "      <td>67.685569</td>\n",
       "      <td>68.594745</td>\n",
       "    </tr>\n",
       "    <tr>\n",
       "      <th>24</th>\n",
       "      <td>46.539206</td>\n",
       "      <td>44.183451</td>\n",
       "      <td>62.754451</td>\n",
       "      <td>64.729837</td>\n",
       "    </tr>\n",
       "  </tbody>\n",
       "</table>\n",
       "</div>"
      ],
      "text/plain": [
       "    Capomulin   Ramicane  Infubinol   Ceftamin\n",
       "0   23.343598  22.050126  67.973419  62.999356\n",
       "1   28.484033  29.128472  65.525743  45.000000\n",
       "2   28.430964  30.276232  57.031862  56.057749\n",
       "3   30.485985  30.564625  66.083066  55.742829\n",
       "4   31.023923  30.638696  72.226731  48.722078\n",
       "5   31.896238  31.560470  36.321346  47.784682\n",
       "6   32.377357  31.095335  60.969711  61.849023\n",
       "7   33.329098  33.397653  62.435404  68.923185\n",
       "8   34.455298  32.978522  60.918767  67.748662\n",
       "9   37.311846  33.562402  67.289621  57.918381\n",
       "10  36.041047  36.134852  66.196912  46.784535\n",
       "11  37.074024  38.810366  62.117279  59.851956\n",
       "12  38.846876  37.225650  47.010364  64.299830\n",
       "13  38.939633  36.374510  60.165180  59.741901\n",
       "14  38.982878  36.561652  55.629428  61.433892\n",
       "15  38.753265  37.311236  45.699331  64.192341\n",
       "16  38.125164  38.342008  54.656549  45.000000\n",
       "17  39.952347  38.407618  55.650681  52.925348\n",
       "18  40.658124  40.659006  46.250112  45.000000\n",
       "19  40.159220  40.667713  54.048608  67.527482\n",
       "20  40.728578  45.220869  51.542431  45.000000\n",
       "21  41.483008  43.047543  50.005138  64.634949\n",
       "22  41.581521  43.419381  58.268442  61.386660\n",
       "23  47.685963  43.166373  67.685569  68.594745\n",
       "24  46.539206  44.183451  62.754451  64.729837"
      ]
     },
     "execution_count": 41,
     "metadata": {},
     "output_type": "execute_result"
    }
   ],
   "source": [
    "drug_df"
   ]
  },
  {
   "cell_type": "code",
   "execution_count": 42,
   "id": "a781a0fc",
   "metadata": {},
   "outputs": [],
   "source": [
    "# Quartile, quantile, outliers, etc calculations for each drug\n",
    "\n",
    "cap_quart = drug_df[regimens[0]].quantile([.25, .5, .75])\n",
    "cap_low = cap_quart[.25]\n",
    "cap_med = cap_quart[.5]\n",
    "cap_upper = cap_quart[.75]\n",
    "cap_iqr = cap_upper - cap_low\n",
    "cap_lowb = cap_low - (1.5 * cap_iqr)\n",
    "cap_upb = cap_upper + (1.5 * cap_iqr)\n",
    "cap_max = drug_df[regimens[0]].max()\n",
    "cap_min = drug_df[regimens[0]].min()"
   ]
  },
  {
   "cell_type": "code",
   "execution_count": 43,
   "id": "f99a04ec",
   "metadata": {},
   "outputs": [],
   "source": [
    "ram_quart = drug_df[regimens[1]].quantile([.25, .5, .75])\n",
    "ram_low = ram_quart[.25]\n",
    "ram_med = ram_quart[.5]\n",
    "ram_upper = ram_quart[.75]\n",
    "ram_iqr = ram_upper - ram_low\n",
    "ram_lowb = ram_low - (1.5 * ram_iqr)\n",
    "ram_upb = ram_upper + (1.5 * ram_iqr)\n",
    "ram_max = drug_df[regimens[1]].max()\n",
    "ram_min = drug_df[regimens[1]].min()"
   ]
  },
  {
   "cell_type": "code",
   "execution_count": 44,
   "id": "596e937b",
   "metadata": {},
   "outputs": [],
   "source": [
    "inf_quart = drug_df[regimens[2]].quantile([.25, .5, .75])\n",
    "inf_low = inf_quart[.25]\n",
    "inf_med = inf_quart[.5]\n",
    "inf_upper = inf_quart[.75]\n",
    "inf_iqr = inf_upper - inf_low\n",
    "inf_lowb = inf_low - (1.5 * inf_iqr)\n",
    "inf_upb = inf_upper + (1.5 * inf_iqr)\n",
    "inf_max = drug_df[regimens[2]].max()\n",
    "inf_min = drug_df[regimens[2]].min()"
   ]
  },
  {
   "cell_type": "code",
   "execution_count": 45,
   "id": "f3f4c626",
   "metadata": {},
   "outputs": [],
   "source": [
    "cef_quart = drug_df[regimens[3]].quantile([.25, .5, .75])\n",
    "cef_low = cef_quart[.25]\n",
    "cef_med = cef_quart[.5]\n",
    "cef_upper = cef_quart[.75]\n",
    "cef_iqr = cef_upper - cef_low\n",
    "cef_lowb = cef_low - (1.5 * cef_iqr)\n",
    "cef_upb = cef_upper + (1.5 * cef_iqr)\n",
    "cef_max = drug_df[regimens[3]].max()\n",
    "cef_min = drug_df[regimens[3]].min()"
   ]
  },
  {
   "cell_type": "code",
   "execution_count": 46,
   "id": "859913d6",
   "metadata": {},
   "outputs": [],
   "source": [
    "# out_count = "
   ]
  },
  {
   "cell_type": "code",
   "execution_count": 47,
   "id": "59ce1e57",
   "metadata": {},
   "outputs": [
    {
     "data": {
      "text/html": [
       "<div>\n",
       "<style scoped>\n",
       "    .dataframe tbody tr th:only-of-type {\n",
       "        vertical-align: middle;\n",
       "    }\n",
       "\n",
       "    .dataframe tbody tr th {\n",
       "        vertical-align: top;\n",
       "    }\n",
       "\n",
       "    .dataframe thead th {\n",
       "        text-align: right;\n",
       "    }\n",
       "</style>\n",
       "<table border=\"1\" class=\"dataframe\">\n",
       "  <thead>\n",
       "    <tr style=\"text-align: right;\">\n",
       "      <th></th>\n",
       "      <th>Lower Bounds</th>\n",
       "      <th>Upper Bounds</th>\n",
       "      <th>IQR</th>\n",
       "    </tr>\n",
       "    <tr>\n",
       "      <th>Drug</th>\n",
       "      <th></th>\n",
       "      <th></th>\n",
       "      <th></th>\n",
       "    </tr>\n",
       "  </thead>\n",
       "  <tbody>\n",
       "    <tr>\n",
       "      <th>Capomulin</th>\n",
       "      <td>32.377357</td>\n",
       "      <td>40.159220</td>\n",
       "      <td>7.781863</td>\n",
       "    </tr>\n",
       "    <tr>\n",
       "      <th>Ceftamin</th>\n",
       "      <td>48.722078</td>\n",
       "      <td>64.299830</td>\n",
       "      <td>15.577752</td>\n",
       "    </tr>\n",
       "    <tr>\n",
       "      <th>Infubinol</th>\n",
       "      <td>54.048608</td>\n",
       "      <td>65.525743</td>\n",
       "      <td>11.477135</td>\n",
       "    </tr>\n",
       "    <tr>\n",
       "      <th>Ramicane</th>\n",
       "      <td>31.560470</td>\n",
       "      <td>40.659006</td>\n",
       "      <td>9.098537</td>\n",
       "    </tr>\n",
       "  </tbody>\n",
       "</table>\n",
       "</div>"
      ],
      "text/plain": [
       "           Lower Bounds  Upper Bounds        IQR\n",
       "Drug                                            \n",
       "Capomulin     32.377357     40.159220   7.781863\n",
       "Ceftamin      48.722078     64.299830  15.577752\n",
       "Infubinol     54.048608     65.525743  11.477135\n",
       "Ramicane      31.560470     40.659006   9.098537"
      ]
     },
     "execution_count": 47,
     "metadata": {},
     "output_type": "execute_result"
    }
   ],
   "source": [
    "outliers = pd.DataFrame({\n",
    "    \"Drug\": regimens,\n",
    "    \"Lower Bounds\": [cap_low, ram_low, inf_low, cef_low],\n",
    "    \"Upper Bounds\": [cap_upper, ram_upper, inf_upper, cef_upper],\n",
    "    \"IQR\": [cap_iqr, ram_iqr, inf_iqr, cef_iqr],\n",
    "      \n",
    "})\n",
    "out_merge = outliers.groupby(\"Drug\")\n",
    "out_merge.sum()"
   ]
  },
  {
   "cell_type": "code",
   "execution_count": 48,
   "id": "89180c1d",
   "metadata": {},
   "outputs": [],
   "source": [
    "# Box Plots"
   ]
  },
  {
   "cell_type": "code",
   "execution_count": 49,
   "id": "3faf0817",
   "metadata": {},
   "outputs": [],
   "source": [
    "box_plot = [drug_df[regimens[0]],\n",
    "            drug_df[regimens[1]],\n",
    "            drug_df[regimens[2]],\n",
    "            drug_df[regimens[3]]\n",
    "           ]"
   ]
  },
  {
   "cell_type": "code",
   "execution_count": 50,
   "id": "111ef7e3",
   "metadata": {},
   "outputs": [
    {
     "data": {
      "text/plain": [
       "<function matplotlib.pyplot.show(*args, **kw)>"
      ]
     },
     "execution_count": 50,
     "metadata": {},
     "output_type": "execute_result"
    },
    {
     "data": {
      "image/png": "[encoded data removed]",
      "text/plain": [
       "<Figure size 720x720 with 1 Axes>"
      ]
     },
     "metadata": {
      "needs_background": "light"
     },
     "output_type": "display_data"
    }
   ],
   "source": [
    "fig1, ax = plt.subplots(figsize = (10, 10))\n",
    "ax.boxplot(box_plot, 0, 'gD')\n",
    "plt.title(\"Final Tumor Volume by Drug\")\n",
    "plt.xlabel(\"Drug Regimens\")\n",
    "plt.ylabel(\"Final Tumor Volume (mm3)\")\n",
    "plt.xticks ([1, 2, 3, 4], regimens)\n",
    "plt.show"
   ]
  },
  {
   "cell_type": "code",
   "execution_count": 51,
   "id": "f6ead710",
   "metadata": {},
   "outputs": [],
   "source": [
    "# Line and Scatter Plots"
   ]
  },
  {
   "cell_type": "code",
   "execution_count": 52,
   "id": "3792fb56",
   "metadata": {},
   "outputs": [],
   "source": [
    "lplot_df = clean_df2.loc[clean_df2[\"Mouse ID\"] == \"w914\",:]\n",
    "# lplot_df"
   ]
  },
  {
   "cell_type": "code",
   "execution_count": 53,
   "id": "4155e4b7",
   "metadata": {},
   "outputs": [],
   "source": [
    "x_axis = lplot_df[\"Timepoint\"]"
   ]
  },
  {
   "cell_type": "code",
   "execution_count": 54,
   "id": "de820e3f",
   "metadata": {},
   "outputs": [],
   "source": [
    "tum_vol = lplot_df[\"Tumor Volume (mm3)\"]"
   ]
  },
  {
   "cell_type": "code",
   "execution_count": 55,
   "id": "f389896a",
   "metadata": {},
   "outputs": [
    {
     "data": {
      "image/png": "[encoded data removed]",
      "text/plain": [
       "<Figure size 432x288 with 1 Axes>"
      ]
     },
     "metadata": {
      "needs_background": "light"
     },
     "output_type": "display_data"
    }
   ],
   "source": [
    "plt.title(\"Mouse w914 Treated with Capomulin\")\n",
    "plt.xlabel(\"Days\")\n",
    "plt.ylabel(\"Tumor Volume (mm3)\")\n",
    "plt.plot(x_axis, tum_vol, linewidth = 5, markersize = 10)\n",
    "plt.show()"
   ]
  },
  {
   "cell_type": "code",
   "execution_count": 56,
   "id": "c006ee4f",
   "metadata": {},
   "outputs": [],
   "source": [
    "cap_df = clean_df2.loc[clean_df2[\"Drug Regimen\"] == \"Capomulin\",:]"
   ]
  },
  {
   "cell_type": "code",
   "execution_count": 57,
   "id": "e4c70712",
   "metadata": {},
   "outputs": [],
   "source": [
    "cap_avg = cap_df.groupby([\"Mouse ID\"]).mean()"
   ]
  },
  {
   "cell_type": "code",
   "execution_count": 58,
   "id": "fef3fc94",
   "metadata": {},
   "outputs": [
    {
     "data": {
      "image/png": "[encoded data removed]",
      "text/plain": [
       "<Figure size 432x288 with 1 Axes>"
      ]
     },
     "metadata": {
      "needs_background": "light"
     },
     "output_type": "display_data"
    }
   ],
   "source": [
    "plt.scatter(cap_avg[\"Weight (g)\"], cap_avg[\"Tumor Volume (mm3)\"])\n",
    "plt.xlabel(\"Weight (g)\")\n",
    "plt.ylabel(\"Average Tumor Volume (mm3) \")\n",
    "plt.show()"
   ]
  },
  {
   "cell_type": "code",
   "execution_count": 59,
   "id": "9c9995b4",
   "metadata": {},
   "outputs": [],
   "source": [
    "# Calculate Correlation and Regresssion\n",
    "\n",
    "cap_df = clean_df2.loc[clean_df2[\"Drug Regimen\"] == \"Capomulin\",:]\n",
    "cap_avg = cap_df.groupby([\"Mouse ID\"]).mean()"
   ]
  },
  {
   "cell_type": "code",
   "execution_count": 60,
   "id": "040efa76",
   "metadata": {},
   "outputs": [],
   "source": [
    "corr_reg = round(st.pearsonr(cap_avg[\"Weight (g)\"], cap_avg[\"Tumor Volume (mm3)\"])[0], 2)"
   ]
  },
  {
   "cell_type": "code",
   "execution_count": 62,
   "id": "195324e0",
   "metadata": {},
   "outputs": [
    {
     "name": "stdout",
     "output_type": "stream",
     "text": [
      "LinregressResult(slope=0.9544396890241045, intercept=21.552160532685015, rvalue=0.8419363424694718, pvalue=1.3225722434712642e-07, stderr=0.12754359033201337)\n"
     ]
    }
   ],
   "source": [
    "a = st.linregress(cap_avg[\"Weight (g)\"], cap_avg[\"Tumor Volume (mm3)\"])\n",
    "print(a)"
   ]
  },
  {
   "cell_type": "code",
   "execution_count": 64,
   "id": "db9e07dd",
   "metadata": {},
   "outputs": [],
   "source": [
    "slope = 0.9544396890241045\n",
    "intercept = 21.552160532685015"
   ]
  },
  {
   "cell_type": "code",
   "execution_count": 65,
   "id": "660a57e8",
   "metadata": {},
   "outputs": [],
   "source": [
    "line = slope * (cap_avg[\"Weight (g)\"]) + intercept"
   ]
  },
  {
   "cell_type": "code",
   "execution_count": 70,
   "id": "1a3ac7dc",
   "metadata": {},
   "outputs": [
    {
     "data": {
      "text/plain": [
       "Text(0, 0.5, 'Tumor Volume (mm3)')"
      ]
     },
     "execution_count": 70,
     "metadata": {},
     "output_type": "execute_result"
    },
    {
     "data": {
      "image/png": "[encoded data removed]",
      "text/plain": [
       "<Figure size 432x288 with 1 Axes>"
      ]
     },
     "metadata": {
      "needs_background": "light"
     },
     "output_type": "display_data"
    }
   ],
   "source": [
    "plt.scatter(cap_avg[\"Weight (g)\"], cap_avg[\"Tumor Volume (mm3)\"])\n",
    "plt.plot(cap_avg[\"Weight (g)\"], line, \"r\", label = \"y = {:.2f}x + {:2f}\".format(slope, intercept))\n",
    "plt.xlabel(\"Weight (g)\")\n",
    "plt.ylabel(\"Tumor Volume (mm3)\")"
   ]
  },
  {
   "cell_type": "code",
   "execution_count": null,
   "id": "b7717899",
   "metadata": {},
   "outputs": [],
   "source": []
  }
 ],
 "metadata": {
  "kernelspec": {
   "display_name": "Python 3 (ipykernel)",
   "language": "python",
   "name": "python3"
  },
  "language_info": {
   "codemirror_mode": {
    "name": "ipython",
    "version": 3
   },
   "file_extension": ".py",
   "mimetype": "text/x-python",
   "name": "python",
   "nbconvert_exporter": "python",
   "pygments_lexer": "ipython3",
   "version": "3.7.7"
  }
 },
 "nbformat": 4,
 "nbformat_minor": 5
}
